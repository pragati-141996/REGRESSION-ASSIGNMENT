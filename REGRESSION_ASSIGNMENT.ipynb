{
  "nbformat": 4,
  "nbformat_minor": 0,
  "metadata": {
    "colab": {
      "provenance": []
    },
    "kernelspec": {
      "name": "python3",
      "display_name": "Python 3"
    },
    "language_info": {
      "name": "python"
    }
  },
  "cells": [
    {
      "cell_type": "markdown",
      "source": [
        "#REGRESSION ASSIGNMENT QUESTIONS"
      ],
      "metadata": {
        "id": "1aWEbkcAEKD2"
      }
    },
    {
      "cell_type": "markdown",
      "source": [
        "1. What is Simple Linear Regression ?"
      ],
      "metadata": {
        "id": "Xr08ntGFEQHd"
      }
    },
    {
      "cell_type": "markdown",
      "source": [
        "-  Simple Linear Regression is a statistical method used to model the relationship between two variables:\n",
        "-  One independent variable (predictor,X)\n",
        "-  One dependent variable (response,Y)\n",
        "-  The goal is to find the best-fitting straight line (called the regression line) that predicts the value of the dependent variable based on the independent variable.\n",
        "\n"
      ],
      "metadata": {
        "id": "MzQI5dpJEWCj"
      }
    },
    {
      "cell_type": "markdown",
      "source": [
        "2. What are the key assumptions of Simple Linear Regression ?"
      ],
      "metadata": {
        "id": "kuV5_lQpJVhe"
      }
    },
    {
      "cell_type": "markdown",
      "source": [
        "-  Here are the key assumptions of Simple Linear Regression:\n",
        "-  Linearity : The relationship between the independent variable X and the dependent variable Y is linear.\n",
        "-  Independence of Errors : The residuals (errors) ε are independent.\n",
        "-  Homoscedasticity (Constant Variance) : The variance of the error terms is constant across all values of X.\n",
        "-  Normality of Errors : The error terms ε are normally distributed.\n",
        "-  No Perfect Multicollinearity : This applies more to multiple regression. In SLR, with one predictor, it's inherently satisfied.\n",
        "-  No Omitted Variable Bias : All relevant variables that affect Y are either included or uncorrelated with X.\n",
        "-  X is Measured Without Error : The independent variable X is measured accurately (no measurement error).\n"
      ],
      "metadata": {
        "id": "X0NYqgRnJcSv"
      }
    },
    {
      "cell_type": "markdown",
      "source": [
        "3. What does the coefficient m represent in the equation Y=mX+c ?"
      ],
      "metadata": {
        "id": "GLraVZh0NSwF"
      }
    },
    {
      "cell_type": "markdown",
      "source": [
        "-  In the linear regression equation y = mx + c, the coefficient 'm' represents the slope of the line, which is also known as the gradient or rate of change. It indicates how much the dependent variable 'y' changes for every one-unit increase in the independent variable 'x'. The slope 'm' determines the direction and steepness of the line. A positive 'm' indicates a positive slope, meaning that as 'x' increases, 'y' also increases. A negative 'm' indicates a negative slope, meaning that as 'x' increases, 'y' decreases. A zero 'm' means the line is horizontal. 'm' quantifies how much 'y' changes for every unit change in 'x'. For instance, if 'm' is 2, then for every one-unit increase in 'x', 'y' increases by 2 units."
      ],
      "metadata": {
        "id": "6hcJD_NmNYZO"
      }
    },
    {
      "cell_type": "markdown",
      "source": [
        "4. What does the intercept c represent in the equation Y=mX+c ?"
      ],
      "metadata": {
        "id": "3kTzhR-9PYIa"
      }
    },
    {
      "cell_type": "markdown",
      "source": [
        "-  In a linear regression equation, Y=mX+c, the intercept 'c' represents the value of Y when X is zero, also known as the Y-intercept.It's the point where the line representing the regression model crosses the Y-axis on a graph."
      ],
      "metadata": {
        "id": "CWS7VbRyPdve"
      }
    },
    {
      "cell_type": "markdown",
      "source": [
        "5. How do we calculate the slope m in Simple Linear Regression ?"
      ],
      "metadata": {
        "id": "fKDreCrhQE6r"
      }
    },
    {
      "cell_type": "markdown",
      "source": [
        "-  In simple linear regression, the slope m can be calculated using the formula: m = (n * ∑xy - (∑x) * (∑y)) / (n * ∑x² - (∑x)²)."
      ],
      "metadata": {
        "id": "riRzknucQI-2"
      }
    },
    {
      "cell_type": "markdown",
      "source": [
        "6. What is the purpose of the least squares method in Simple Linear Regression ?"
      ],
      "metadata": {
        "id": "qZ6KfD6IRWow"
      }
    },
    {
      "cell_type": "markdown",
      "source": [
        "-  The least squares method in simple linear regression is used to find the \"line of best fit\" for a set of data points. It does this by minimizing the sum of the squared vertical distances (errors) between each data point and the line. Sum of squared errors is calculated by taking the difference between the actual values of the dependent variable and the values predicted by the line for each data point, squaring these differences, and summing them up.By minimizing SSE, the method ensures that the line is as close as possible to all the data points, resulting in the most accurate prediction of the dependent variable based on the independent variable."
      ],
      "metadata": {
        "id": "WPl4qEpQRb92"
      }
    },
    {
      "cell_type": "markdown",
      "source": [
        "7. How is the coefficient of determination (R²) interpreted in Simple Linear Regression ?"
      ],
      "metadata": {
        "id": "BSqJCX_3UGZv"
      }
    },
    {
      "cell_type": "markdown",
      "source": [
        "-  In Simple Linear Regression, the coefficient of determination (R²) is interpreted as the proportion or percentage of the variance in the dependent variable (y) that is explained by the independent variable (x) in the model. A higher R² indicates a stronger relationship between the variables, meaning the model explains more of the variability in the dependent variable. For example, if R² = 0.80 in a model predicting exam grades based on study hours, it means 80% of the variability in exam grades is explained by the study hours variable."
      ],
      "metadata": {
        "id": "Vt_fEg1uUN6n"
      }
    },
    {
      "cell_type": "markdown",
      "source": [
        "8. What is Multiple Linear Regression ?"
      ],
      "metadata": {
        "id": "VgN4Kd2yYTPt"
      }
    },
    {
      "cell_type": "markdown",
      "source": [
        "-  Multiple linear regression is a statistical method that models the relationship between a single dependent variable and two or more independent variables. It extends simple linear regression by including multiple predictor variables to understand how they collectively influence the outcome variable."
      ],
      "metadata": {
        "id": "ftntKGsQYY4h"
      }
    },
    {
      "cell_type": "markdown",
      "source": [
        "9. What is the main difference between Simple and Multiple Linear Regression ?"
      ],
      "metadata": {
        "id": "F8yOtxbyY2xj"
      }
    },
    {
      "cell_type": "markdown",
      "source": [
        "-  DIFFERENCES are as follows :\n",
        "-  Linear (Simple) Regression models the relationship between one dependent and one independent variable.Whereas,Multiple Regression models the relationship between one dependent and two or more independent variables.\n",
        "-  Complexity wise Simple Regression is simpler to deal with one relationship.Whereas,Multiple Regression is more complex due to multiple relationships.\n",
        "-  Simple Regression is suitable when there is one clear predictor.Whereas,Multiple Regression is suitable when multiple factors affect the outcome.\n",
        "-  In Simple Regression assumptions are Linearity, Independence, Homoscedasticity, Normality.Whereas, in Multiple Regression ,assumptions are similar to  linear regression, with the added concern of multicollinearity.\n",
        "-  Simple Regression is typically visualized with a 2D scatter plot and a line of best fit.Whereas,Multiple Regression requires 3D or multi-dimensional space, often represented using partial regression plots.\n",
        "-  In Simple Regression risk of overfitting is lower as it deals with only one predictor.Whereas,in Multiple Regression,risk of overfitting is higher, especially if too many predictors are used without adequate data.\n",
        "-  In Simple Regression,multicollinearity concern is not applicable, as there’s only one predictor.Whereas,in Multiple Regression ,the primary cocern is multicollinearity as correlated predictors can affect the model’s accuracy and interpretation."
      ],
      "metadata": {
        "id": "Ilp6nr11Y8VO"
      }
    },
    {
      "cell_type": "markdown",
      "source": [
        "10. What are the key assumptions of Multiple Linear Regression?"
      ],
      "metadata": {
        "id": "VFRsRamdp1K1"
      }
    },
    {
      "cell_type": "markdown",
      "source": [
        "-   Key assumptions of Multiple Linear Regression are as follows :\n",
        "-   Linearity : The relationship between the dependent variable and each independent variable should be linear.\n",
        "-   Independence : Observations should be independent of each other.\n",
        "-   No Multicollinearity : Independent variables should not be highly correlated with each other.\n",
        "-   Homoscedasticity : The variance of the error terms (residuals) should be constant across all levels of the independent variables.\n",
        "-   No Autocorrelation : The residuals (errors) should be independent of each other.\n",
        "-   Multivariate Normality : The dependent variable should be normally distributed for any fixed value of the independent variables."
      ],
      "metadata": {
        "id": "YLU7Y_YEp7At"
      }
    },
    {
      "cell_type": "markdown",
      "source": [
        "11. What is heteroscedasticity, and how does it affect the results of a Multiple Linear Regression model ?"
      ],
      "metadata": {
        "id": "5GiSiE99tuy_"
      }
    },
    {
      "cell_type": "markdown",
      "source": [
        "-   Heteroscedasticity occurs when the spread of the residuals (the difference between actual and predicted values) is not consistent across the range of independent variables. For example, if the spread of residuals is larger for higher values of an independent variable, then there is heteroscedasticity.\n",
        "-   AFFECTS ON RESULTS OF MULTIPLE LINEAR REGRESSION MODEL :\n",
        "-   Biased standard errors: Heteroscedasticity inflates the standard errors of the regression coefficients.\n",
        "-   Invalid hypothesis tests: The inflated standard errors lead to unreliable t-tests and F-tests, making it difficult to draw valid conclusions about the significance of the regression coefficients and the overall model fit.\n",
        "-   Inefficient estimators: While the OLS estimators themselves might still be unbiased, they are no longer the most efficient estimators (meaning they have higher variance than other estimators)."
      ],
      "metadata": {
        "id": "99nOVHkbt0dq"
      }
    },
    {
      "cell_type": "markdown",
      "source": [
        "12. How can you improve a Multiple Linear Regression model with high multicollinearity ?"
      ],
      "metadata": {
        "id": "ebsJFBZHvxX_"
      }
    },
    {
      "cell_type": "markdown",
      "source": [
        "-   Following steps can be used to improve Multiple Linear Regression with high multicollinearity :\n",
        "-   Removing Redundant Variables:If two variables are highly correlated and one doesn't seem essential to the model, removing it can reduce or eliminate multicollinearity, simplifying the model.\n",
        "-   Combining Correlated Variables:If multiple variables are highly correlated, we can combine them into a single variable.\n",
        "-   Regularization Techniques:Regularization methods like ridge and lasso regression can reduce the impact of multicollinearity by penalizing large coefficient values. Ridge regression shrinks coefficients evenly, while lasso regression can set some coefficients to zero, effectively removing variables from the model.\n",
        "-   Increase Sample Size:A larger sample size can help reduce the impact of multicollinearity by providing more variation among the predictors.\n",
        "-   Consider Data Transformation:Transforming the data (e.g., standardization) can sometimes reduce multicollinearity.\n",
        "-   Understand the Underlying Relationships:Understanding why the variables are correlated can help us make informed decisions about which variables to remove or combine."
      ],
      "metadata": {
        "id": "002f3ldHv3Db"
      }
    },
    {
      "cell_type": "markdown",
      "source": [
        "13. What are some common techniques for transforming categorical variables for use in regression models?"
      ],
      "metadata": {
        "id": "je2c0HME3qs4"
      }
    },
    {
      "cell_type": "markdown",
      "source": [
        "-   Some common techniques for transforming categorical variables for use in regression models:\n",
        "-    One-Hot Encoding:Creates a new binary variable (0 or 1) for each category of a categorical variable.Example:If a variable \"Color\" has categories \"Red\", \"Blue\", and \"Green\", one-hot encoding would create three new variables: \"Red\" (1 if the original color was Red, 0 otherwise), \"Blue\" (1 if the original color was Blue, 0 otherwise), and \"Green\" (1 if the original color was Green, 0 otherwise).This technique suitable for nominal variables (categories with no inherent order).  \n",
        "-   Label Encoding:Assigns a unique numerical label (e.g., 0, 1, 2) to each category in a categorical variable.Example:If a variable \"Size\" has categories \"Small\", \"Medium\", and \"Large\", label encoding might assign them as 0, 1, and 2 respectively.This technique is useful for ordinal variables (categories with a meaningful order).\n",
        "-   Target Encoding:Replaces each category in a categorical variable with the mean target value (the dependent variable's mean) for that category.Example:If a categorical variable \"Region\" has categories \"East\", \"West\", and \"South\", and the mean sales in each region are 10, 15, and 20 respectively, target encoding would replace \"East\" with 10, \"West\" with 15, and \"South\" with 20.This technique can be effective for high-cardinality variables and capturing relationships between categorical variables and the target variable.\n",
        "-   Binary Encoding:Converts categories into binary codes (e.g., 00, 01, 10 for three categories).Example:For a variable \"Color\" with \"Red\", \"Blue\", and \"Green\", binary encoding could map them to 00, 01, and 10 respectively.This technique reduces the number of new columns compared to one-hot encoding, potentially helpful for high-cardinality variables.\n",
        "-   Feature Hashing: Hashes categories into numerical values to reduce dimensionality. This technique is useful for extremely high-cardinality variables where one-hot encoding is impractical."
      ],
      "metadata": {
        "id": "2B_RqROZ3x3p"
      }
    },
    {
      "cell_type": "markdown",
      "source": [
        "14. What is the role of interaction terms in Multiple Linear Regression?"
      ],
      "metadata": {
        "id": "tCOE47OW_LGZ"
      }
    },
    {
      "cell_type": "markdown",
      "source": [
        "-   Interaction terms account for situations where the relationship between an independent variable and the dependent variable is not constant but changes depending on the value of another independent variable. By including interaction terms, we can create a model with flexible slopes, where the effect of one variable on the outcome can vary across different levels of another variable.Interaction terms allow us to test more complex hypotheses about how variables interact to influence the outcome. When the relationship between variables is truly interactive, including interaction terms can lead to a better fit to the data and potentially better predictive performance. The inclusion of interaction terms significantly alters the interpretation of all the coefficients in the model. For example, the coefficient of an independent variable no longer represents its unique effect, but rather its effect when the other interacting variable is at a specific value (e.g., its mean or zero). Example:Imagine we are trying to predict employee performance. A simple regression might show that both job satisfaction and years of experience are positive predictors of performance. However, an interaction term between job satisfaction and years of experience could reveal that the positive effect of job satisfaction on performance is stronger for employees with more years of experience. This means that the impact of job satisfaction varies depending on the employee's experience level."
      ],
      "metadata": {
        "id": "Ry-qXJFB_RcB"
      }
    },
    {
      "cell_type": "markdown",
      "source": [
        "15. How can the interpretation of intercept differ between Simple and Multiple Linear Regression?"
      ],
      "metadata": {
        "id": "8h_ILT_pDRUe"
      }
    },
    {
      "cell_type": "markdown",
      "source": [
        "-   In Simple Linear Regression , the intercept is the point where the regression line crosses the y-axis (the dependent variable).It represents the expected value of the dependent variable when the independent variable is zero. It's often the starting point of the relationship, or the value of the dependent variable when the independent variable has no effect. Whereas,in Multiple Linear Regression , The intercept is still the point where the regression line crosses the y-axis.It represents the expected value of the dependent variable when all independent variables are simultaneously zero.In Multiple Regression, the intercept is less likely to have a practical interpretation. It might be a theoretical value that doesn't exist in real-world data.The intercept becomes more of a baseline reference point when all other independent variables are at their zero values."
      ],
      "metadata": {
        "id": "6mQC3Q9iDXea"
      }
    },
    {
      "cell_type": "markdown",
      "source": [
        "16. What is the significance of the slope in regression analysis, and how does it affect predictions ?"
      ],
      "metadata": {
        "id": "rgSPwJ_cGxZT"
      }
    },
    {
      "cell_type": "markdown",
      "source": [
        "-   In regression analysis, the slope represents the change in the dependent variable (y) for every one-unit change in the independent variable (x). It essentially indicates the rate at which the dependent variable is predicted to change when the independent variable changes. This significance is critical because it directly impacts the model's predictions and understanding of the relationship between variables.The slope helps interpret the relationship between the variables. A steeper slope indicates a stronger relationship, while a flatter slope suggests a weaker relationship.  By knowing the slope, we can predict the change in the dependent variable for any given change in the independent variable. For example, if the slope is 2, then for every 1-unit increase in x, the predicted y value will increase by 2 units.\n"
      ],
      "metadata": {
        "id": "W2iX8UtlG16T"
      }
    },
    {
      "cell_type": "markdown",
      "source": [
        "17. How does the intercept in a regression model provide context for the relationship between variables?"
      ],
      "metadata": {
        "id": "03kZqk9Kt-WD"
      }
    },
    {
      "cell_type": "markdown",
      "source": [
        "-   The intercept in a regression model, representing the value of the dependent variable when all independent variables are zero, provides context by establishing the baseline or starting point of the relationship between variables. It clarifies where the regression line begins, offering insights into the expected value of the dependent variable when no influence from the independent variables is present. By knowing the intercept, we can better interpret the slope of the regression line. The slope indicates how the dependent variable changes for each unit increase in the independent variable, and the intercept provides the initial value before that change begins."
      ],
      "metadata": {
        "id": "uOHfdSPluDwW"
      }
    },
    {
      "cell_type": "markdown",
      "source": [
        "18. What are the limitations of using R² as a sole measure of model performance ?"
      ],
      "metadata": {
        "id": "A8Pb-9tIvIVW"
      }
    },
    {
      "cell_type": "markdown",
      "source": [
        "-   LIMITATIONS OF USING R square as a sole measure of model performance are as follows :\n",
        "-   Overfitting : Adding irrelevant variables to a model can artificially inflate the R² value, making it appear as if the model's predictive power has improved when, in reality, it's just fitting noise in the training data. This leads to a model that performs well on the training data but poorly on new, unseen data.\n",
        "-   Doesn't Guarantee Predictive Power : A high R² doesn't automatically translate to strong predictive accuracy on new data. A model can have a high R² on the training data but fail to generalize to new situations.\n",
        "-   Doesn't Account for Non-Linearity : R² is most appropriate for linear regression models. It might not accurately reflect the performance of models that capture non-linear relationships.\n",
        "-   Doesn't Indicate Model Quality or Bias : R² doesn't tell us whether the model is good, bad, or if the data and predictions are biased. We need to consider other metrics and assess residual plots to determine model quality and bias.\n",
        "-   Sensitivity to Data Variability : A low R² can be misleading if the overall variability of the data is small. In such cases, the residual variation relative to the total variation might result in a low R², even if the model is a good fit.\n",
        "-   No Penalty for Complexity : R² doesn't penalize the model for being overly complex. This can lead to the inclusion of irrelevant variables and overfitting.\n",
        "-   May be Inappropriate for Certain Data Types : R² may not be the most suitable metric for all types of data, particularly when dealing with categorical variables or small datasets."
      ],
      "metadata": {
        "id": "jCRnbJaDvNqz"
      }
    },
    {
      "cell_type": "markdown",
      "source": [
        "19. How would you interpret a large standard error for a regression coefficient ?"
      ],
      "metadata": {
        "id": "0wMBAqj7y649"
      }
    },
    {
      "cell_type": "markdown",
      "source": [
        "-   A large standard error for a regression coefficient suggests that the estimated coefficient is imprecise and potentially unreliable. It indicates that the coefficient's value might vary significantly if the model were re-estimated on a different sample of data. A large standard error reduces confidence in the reliability of the coefficient estimate. It suggests that the true population value of the coefficient could be significantly different from the estimated value. A standard error quantifies the variability of the coefficient estimate across different samples. A larger standard error implies that the coefficient estimate is more variable across different samples, indicating less precision. A large standard error can also impact the statistical significance of the coefficient. If the coefficient is close to zero and has a large standard error, it may not be statistically significant, even if it appears to have a non-zero value. This means there's a higher probability that the observed effect is due to random chance rather than a true relationship between the variables."
      ],
      "metadata": {
        "id": "Q80sOjqfzAZh"
      }
    },
    {
      "cell_type": "markdown",
      "source": [
        "20. How can heteroscedasticity be identified in residual plots, and why is it important to address it ?"
      ],
      "metadata": {
        "id": "UzftDIOq0v86"
      }
    },
    {
      "cell_type": "markdown",
      "source": [
        "-   Identifying Heteroscedasticity in Residual Plots :\n",
        "-   Visual Inspection:Plot residuals against the predicted values (fitted values). If the residuals show a pattern of increasing or decreasing spread as the fitted values change, it suggests heteroscedasticity.\n",
        "-   \"Fan\" or \"Cone\" Shape:A fan or cone shape in the residual plot, where the residuals become wider or narrower as the fitted values change, is a strong indicator of heteroscedasticity.\n",
        "-   IMPORTANCE OF ADDRESSING HETEROSCEDASTICITY :\n",
        "-   Violates OLS Assumption:OLS regression assumes constant variance of errors (homoscedasticity). Heteroscedasticity violates this assumption, leading to biased standard errors.\n",
        "-   Inaccurate Statistical Inferences:If the standard errors are inaccurate due to heteroscedasticity, confidence intervals and hypothesis tests can be unreliable.\n",
        "-   Incorrect Model Interpretation:Heteroscedasticity can lead to incorrect conclusions about the relationships between variables in a regression model.\n",
        "-   Reduced Model Accuracy:Heteroscedasticity can reduce the overall accuracy of the regression model and its predictive power."
      ],
      "metadata": {
        "id": "1rK002Yc01Mj"
      }
    },
    {
      "cell_type": "markdown",
      "source": [
        "21. What does it mean if a Multiple Linear Regression model has a high R² but low adjusted R²?"
      ],
      "metadata": {
        "id": "Sv9W_nts33Vr"
      }
    },
    {
      "cell_type": "markdown",
      "source": [
        "-   R² measures the proportion of the variance in the dependent variable that is explained by the independent variables in the model. A high R² (e.g., close to 1) suggests that the model fits the data well and explains a large amount of the variation in the outcome. The Adjusted R² is a modified version of R² that takes into account the number of predictors in the model. It adjusts the R² value to penalize for the inclusion of unnecessary variables. It's essentially a more conservative measure of model fit. High R² but Low Adjusted R² means When the difference between R² and Adjusted R² is substantial, it suggests that the model's good fit may be due to the inclusion of many variables, some of which might not be truly influential or predictive."
      ],
      "metadata": {
        "id": "cqY8pebf38li"
      }
    },
    {
      "cell_type": "markdown",
      "source": [
        "22. Why is it important to scale variables in Multiple Linear Regression ?\n"
      ],
      "metadata": {
        "id": "43jKFehQ8OYs"
      }
    },
    {
      "cell_type": "markdown",
      "source": [
        "-   Scaling variables in multiple linear regression is crucial for several reasons :\n",
        "-   Convergence:Without scaling, variables with larger scales can disproportionately influence the optimization process, potentially causing the model to converge slowly or even get stuck in local optima.\n",
        "Scaling helps all features contribute more evenly, leading to faster and more reliable convergence to the optimal solution.\n",
        "-   Interpretation:Scaling makes it easier to interpret the coefficients of the regression model. Without scaling, coefficients might be skewed by the scale of the variables, making it difficult to compare the relative importance of different features. Standardized coefficients allow for a more straightforward comparison of how each feature affects the outcome variable.\n",
        "-   Algorithm Performance:Many machine learning algorithms, especially those based on distance (like K-nearest neighbors) or penalties (like Ridge and Lasso regression), are sensitive to the scale of the input variables.Scaling ensures that these algorithms can effectively utilize all features without being dominated by a single, large-scale variable.\n",
        "-   Model Training:Scaling helps the model learn more efficiently by ensuring that all features contribute equally. This can lead to more accurate predictions and a better overall model performance."
      ],
      "metadata": {
        "id": "G64AW-rh8S2B"
      }
    },
    {
      "cell_type": "markdown",
      "source": [
        "23. What is polynomial regression?"
      ],
      "metadata": {
        "id": "GxPJfVg7-Zjd"
      }
    },
    {
      "cell_type": "markdown",
      "source": [
        "-   Polynomial regression is a type of linear regression used to model non-linear relationships between variables by fitting a polynomial equation to the data. It extends the basic linear regression model by including polynomial terms of the independent variable, allowing the model to capture curves and other non-linear patterns."
      ],
      "metadata": {
        "id": "2P2EUC1D-k1y"
      }
    },
    {
      "cell_type": "markdown",
      "source": [
        "24. How does polynomial regression differ from linear regression?"
      ],
      "metadata": {
        "id": "D8YSSJA__Ddq"
      }
    },
    {
      "cell_type": "markdown",
      "source": [
        "-   Linear Regression assumes a straight-line relationship between dependent and independent variables. Whereas,polynomial regression, model non-linear relationships by fitting a polynomial equation to the data.\n",
        "-   Linear Regression is suitable for linear trends.Whereas,polynomial regression is ideal for complex patterns.\n",
        "-   Linear Regression is simpler, easier to interpret, fewer parameters, less prone to overfitting.Whereas,polynomial regression is more complex, higher-degree polynomial, more prone to overfitting.\n",
        "-   Linear Regression is limited to linear relationships, may underfit non-linear data.Whereas,polynomial regression offers greater flexibility, can model curves and intricate patterns, suitable for non-linear trends."
      ],
      "metadata": {
        "id": "apPlKDnK_I7X"
      }
    },
    {
      "cell_type": "markdown",
      "source": [
        "25. When is polynomial regression used ?"
      ],
      "metadata": {
        "id": "33fmguwcBGUC"
      }
    },
    {
      "cell_type": "markdown",
      "source": [
        "-   Polynomial Regression is used in following cases:\n",
        "-   Non-linear relationships:When the data points exhibit a curvilinear pattern, and a straight line cannot accurately predict the outcomes.\n",
        "-   Predictive modeling:In situations where we want to model and predict future values based on non-linear relationships, like predicting stock trends or healthcare growth patterns.\n",
        "-   Machine learning:When datasets exhibit non-linear relationships that linear models cannot capture, polynomial regression can be a powerful tool.\n",
        "-   Modeling complex relationships:When the relationship between an independent variable and a dependent variable is not simple and can be better represented by a curve."
      ],
      "metadata": {
        "id": "7Z3LpDrOBLuV"
      }
    },
    {
      "cell_type": "markdown",
      "source": [
        "26. What is the general equation for polynomial regression?"
      ],
      "metadata": {
        "id": "1Le4nm_hCN-o"
      }
    },
    {
      "cell_type": "markdown",
      "source": [
        "-   The general equation for polynomial regression, a method used to fit a polynomial of a specific degree to a dataset, is:\n",
        "y = β₀ + β₁x + β₂x² + ... + βₙxⁿ + ε, where:\n",
        "y: is the dependent variable.\n",
        "x: is the independent variable.\n",
        "β₀, β₁, β₂, ... βₙ: are the coefficients of the polynomial terms (the parameters to be estimated).\n",
        "n: is the degree of the polynomial.\n",
        "ε: is the error term."
      ],
      "metadata": {
        "id": "APVquGk5CS4Z"
      }
    },
    {
      "cell_type": "markdown",
      "source": [
        "27. Can polynomial regression be applied to multiple variables?"
      ],
      "metadata": {
        "id": "h-z9DEopC2H1"
      }
    },
    {
      "cell_type": "markdown",
      "source": [
        "-   Yes, polynomial regression can be applied to multiple variables. In essence, it extends linear regression by including polynomial terms of the independent variables, allowing for more complex, non-linear relationships to be modeled."
      ],
      "metadata": {
        "id": "VvSxtqCeC6ZL"
      }
    },
    {
      "cell_type": "markdown",
      "source": [
        "28. What are the limitations of polynomial regression ?"
      ],
      "metadata": {
        "id": "SjKnEQAfDFXt"
      }
    },
    {
      "cell_type": "markdown",
      "source": [
        "-   LIMITATIONS OF POLYNOMIAL REGRESSION:\n",
        "-   Overfitting:High-degree polynomials can fit the training data too closely, including the noise, leading to poor generalization to new, unseen data.Overfitting occurs when a model learns the training data too well, including random noise, and fails to generalize to new data.\n",
        "-   Outlier Sensitivity:Polynomial regression is more sensitive to outliers than linear regression. Outliers can significantly distort the results, leading to inaccurate parameter estimates and unreliable predictions.\n",
        "-    Interpretability:As the degree of the polynomial increases, the model becomes more complex and less interpretable.Higher-degree terms may be less intuitive, making it difficult to understand the model's underlying relationships.  \n",
        "-   Computational Cost:The computational cost of polynomial regression increases with the degree of the polynomial.High-degree polynomials require more resources and can slow down the training process, especially with large datasets.\n",
        "-   Choosing the Right Degree:Selecting the appropriate degree for the polynomial can be challenging.Techniques like cross-validation are often needed to determine the optimal degree, which adds to the complexity.\n",
        "-   Extrapolation Issues:Polynomial regression can produce extreme predictions outside the range of the training data, particularly for high-degree polynomials.Extrapolation beyond the training data range may yield unreliable results.  \n",
        "-   Multicollinearity:In polynomial regression with multiple independent variables, multicollinearity can arise, making the model less stable.\n",
        "Highly correlated independent variables can lead to instability in the coefficient estimates and reduce the model's predictive power."
      ],
      "metadata": {
        "id": "o2Qt6Bv8DKEc"
      }
    },
    {
      "cell_type": "markdown",
      "source": [
        "29. What methods can be used to evaluate model fit when selecting the degree of a polynomial?"
      ],
      "metadata": {
        "id": "Zm4X6ebOEZel"
      }
    },
    {
      "cell_type": "markdown",
      "source": [
        "-   Methods for Evaluating Model Fit:\n",
        "-   Visual Inspection:Plot the data and the fitted polynomial. This helps visually assess how well the polynomial captures the underlying trend in the data. Look for patterns: Overfitting might lead to the polynomial following the noise in the data, while underfitting might miss the true curvature. Consider the data range: Extrapolation (predicting outside the range of the observed data) can be problematic with polynomial models, so it's important to be cautious.\n",
        "-   Statistical Metrics:R² (Coefficient of Determination): Measures the proportion of variance in the response variable that can be explained by the model. A higher R² indicates a better fit. Adjusted R²: A modified version of R² that penalizes for adding unnecessary terms (e.g., higher-degree polynomial terms). Other metrics: Mean Squared Error (MSE), Root Mean Squared Error (RMSE), Mean Absolute Error (MAE) can also be used to evaluate model fit.\n",
        "-   Cross-Validation:Split the data: Divide the data into training and validation sets. Train the model: Fit the polynomial regression model using the training data. Evaluate the model: Predict values for the validation set and calculate metrics like R² or MSE. Prevent overfitting: This process helps identify if the model is over-optimizing for the training data and might not generalize well.\n",
        "-   Akaike Information Criterion (AIC) and Bayesian Information Criterion (BIC):Model selection criteria: AIC and BIC help balance model fit and complexity by penalizing models with more parameters. Lower values: Models with lower AIC or BIC scores are generally preferred.\n",
        "-   Residual Analysis:Examine residuals: The difference between the observed values and the predicted values from the model.\n",
        "Check for patterns: Residual plots can reveal if the model assumptions (e.g., constant variance, independence of errors) are being violated."
      ],
      "metadata": {
        "id": "6jG8_WvyEfd2"
      }
    },
    {
      "cell_type": "markdown",
      "source": [
        "30. Why is visualization important in polynomial regression?"
      ],
      "metadata": {
        "id": "5VEgIZk3GAmt"
      }
    },
    {
      "cell_type": "markdown",
      "source": [
        "-   Visualization is important in polynomial regression for several key reasons :\n",
        "-   Understanding the Model Fit:Polynomial regression introduces non-linearity, which can model more complex relationships.Visualizing the fitted curve against the actual data helps us:\n",
        "-   See how well the model captures the trend.\n",
        "-   Detect underfitting (curve too simple) or overfitting (curve too complex)\n",
        "-   Choosing the Right Degree:A critical decision in polynomial regression is selecting the degree of the polynomial.Visualization helps us:\n",
        "-   Identify if a low-degree polynomial misses patterns.\n",
        "-   Spot if a high-degree polynomial creates unnecessary wiggles or extreme fluctuations (overfitting).\n",
        "-   Detecting Overfitting and Underfitting:Overfitting: Curve follows training data too closely, poor generalization.Underfitting: Curve is too simple, misses important data structure.Visualization provides immediate insight into whether our model is too complex or too simple.\n",
        "-   Communicating Results:Visuals are powerful tools for explaining the behavior of a regression model to stakeholders who may not be technical.A plot can clearly demonstrate how the model behaves across the range of the input, helping us explain our choices.\n",
        "-   Checking Residuals:Residual plots (difference between predicted and actual values) can be visualized to assess model assumptions and performance.Patterns in residuals may indicate model misspecification, guiding us to refine the model.\n",
        "\n",
        "\n"
      ],
      "metadata": {
        "id": "0z3BPw7FGEgK"
      }
    },
    {
      "cell_type": "markdown",
      "source": [
        "31.  How is polynomial regression implemented in Python?"
      ],
      "metadata": {
        "id": "R9cFT41rDajc"
      }
    },
    {
      "cell_type": "code",
      "source": [
        "#STEP-1 IMPORT REQUIRED LIBRARIES\n",
        "import numpy as np\n",
        "import matplotlib.pyplot as plt\n",
        "from sklearn.linear_model import LinearRegression\n",
        "from sklearn.preprocessing import PolynomialFeatures\n",
        "#STEP-2 CREATE THE DATA\n",
        "x=np.array([1,2,3,4,5]).reshape(-1,1)\n",
        "y=np.array([1,4,9,16,25])\n",
        "#STEP-3 CREATE POLYNOMIAL FEATURES\n",
        "poly=PolynomialFeatures(degree=2)\n",
        "x_poly=poly.fit_transform(x)\n",
        "#STEP-4 FIT THE LINEAR REGRESSION MODEL\n",
        "model=LinearRegression()\n",
        "model.fit(x_poly,y)\n",
        "#STEP-5 MAKE PREDICTIONS\n",
        "y_pred=model.predict(x_poly)\n",
        "#VISUALIZE THE RESULTS\n",
        "plt.scatter(x,y,color=\"red\",label=\"ACTUAL DATA\")\n",
        "plt.plot(x,y_pred,color=\"blue\",label=\"POLYNOMIAL FIT\")\n",
        "plt.xlabel(\"X\")\n",
        "plt.ylabel(\"Y\")\n",
        "plt.title(\"POLYNOMIAL REGRESSION\")\n",
        "plt.legend()\n",
        "plt.show()"
      ],
      "metadata": {
        "colab": {
          "base_uri": "https://localhost:8080/",
          "height": 472
        },
        "id": "whpyacm-ES8y",
        "outputId": "42ece9b1-310b-4c78-fbe5-57aff0e7122f"
      },
      "execution_count": 1,
      "outputs": [
        {
          "output_type": "display_data",
          "data": {
            "text/plain": [
              "<Figure size 640x480 with 1 Axes>"
            ],
            "image/png": "[encoded data removed]"
          },
          "metadata": {}
        }
      ]
    },
    {
      "cell_type": "code",
      "source": [],
      "metadata": {
        "id": "mqWvSZF_JQNG"
      },
      "execution_count": null,
      "outputs": []
    }
  ]
}